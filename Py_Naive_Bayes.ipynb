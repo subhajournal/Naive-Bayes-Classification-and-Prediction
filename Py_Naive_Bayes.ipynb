{
 "cells": [
  {
   "cell_type": "markdown",
   "metadata": {},
   "source": [
    "## Naive Bayes"
   ]
  },
  {
   "cell_type": "markdown",
   "metadata": {},
   "source": [
    "#### What is Naive Bayes? \n",
    "\n",
    "Naive Bayes is among one of the most simple and powerful algorithms for classification based on Bayes’ Theorem with an assumption of independence among predictors. Naive Bayes model is easy to build and particularly useful for very large data sets. There are two parts to this algorithm:\n",
    "\n",
    "    Naive\n",
    "    Bayes\n",
    "\n",
    "The Naive Bayes classifier assumes that the presence of a feature in a class is unrelated to any other feature. Even if these features depend on each other or upon the existence of the other features, all of these properties independently contribute to the probability that a particular fruit is an apple or an orange or a banana and that is why it is known as “Naive”. "
   ]
  },
  {
   "cell_type": "markdown",
   "metadata": {},
   "source": [
    "#### What is Bayes Theorem?\n",
    "\n",
    "In Statistics and probability theory, Bayes’ theorem describes the probability of an event, based on prior knowledge of conditions that might be related to the event. It serves as a way to figure out conditional probability.\n",
    "\n",
    "Given a Hypothesis H and evidence E, Bayes’ Theorem states that the relationship between the probability of Hypothesis before getting the evidence **P(H)** and the probability of the hypothesis after getting the evidence **P(H|E)** is :"
   ]
  },
  {
   "cell_type": "markdown",
   "metadata": {},
   "source": [
    "![](https://d1jnx9ba8s6j9r.cloudfront.net/blog/wp-content/uploads/2018/07/formula-528x90.png)"
   ]
  },
  {
   "cell_type": "markdown",
   "metadata": {},
   "source": [
    "This relates the probability of the hypothesis before getting the evidence **P(H)**, to the probability of the hypothesis after getting the evidence, **P(H|E)**. For this reason,  is called the prior probability, while P(H|E) is called the posterior probability. The factor that relates the two, **P(H|E) / P(E)**, is called the likelihood ratio. Using these terms, Bayes’ theorem can be rephrased as:\n",
    "\n",
    " \n",
    "\n",
    "**“The posterior probability equals the prior probability times the likelihood ratio.”**"
   ]
  },
  {
   "cell_type": "markdown",
   "metadata": {},
   "source": [
    "### Process of Table Creation"
   ]
  },
  {
   "cell_type": "markdown",
   "metadata": {},
   "source": [
    "![](https://d1jnx9ba8s6j9r.cloudfront.net/blog/wp-content/uploads/2018/07/table-259x300.png)"
   ]
  },
  {
   "cell_type": "markdown",
   "metadata": {},
   "source": [
    "![](https://res.cloudinary.com/dyd911kmh/image/upload/f_auto,q_auto:best/v1543836883/image_4_lyi0ob.png)"
   ]
  },
  {
   "cell_type": "markdown",
   "metadata": {},
   "source": [
    "### Steps for the Algorithm"
   ]
  },
  {
   "cell_type": "markdown",
   "metadata": {},
   "source": [
    "#### Step-1: First, we will create a frequency table using each attribute of the dataset."
   ]
  },
  {
   "cell_type": "markdown",
   "metadata": {},
   "source": [
    "![](https://d1jnx9ba8s6j9r.cloudfront.net/blog/wp-content/uploads/2018/07/table1-227x300.png)"
   ]
  },
  {
   "cell_type": "markdown",
   "metadata": {},
   "source": [
    "#### Step-2: For each frequency table, we will generate a likelihood table."
   ]
  },
  {
   "cell_type": "markdown",
   "metadata": {},
   "source": [
    "![](https://d1jnx9ba8s6j9r.cloudfront.net/blog/wp-content/uploads/2018/07/table2-528x158.png)"
   ]
  },
  {
   "cell_type": "markdown",
   "metadata": {},
   "source": [
    "#### Solution"
   ]
  },
  {
   "cell_type": "markdown",
   "metadata": {},
   "source": [
    "Likelihood of **‘Yes’** given **‘Sunny‘** is:\n",
    "\n",
    "**P(c|x) = P(Yes|Sunny) = P(Sunny|Yes)* P(Yes) / P(Sunny) = (0.3 x 0.71) /0.36  = 0.591**"
   ]
  },
  {
   "cell_type": "markdown",
   "metadata": {},
   "source": [
    "Similarly Likelihood of **‘No’** given **‘Sunny‘** is:\n",
    "\n",
    "**P(c|x) = P(No|Sunny) = P(Sunny|No)* P(No) / P(Sunny) = (0.4 x 0.36) /0.36  = 0.40**"
   ]
  },
  {
   "cell_type": "markdown",
   "metadata": {},
   "source": [
    "#### Now, in the same way, we need to create the Likelihood Table for other attributes as well."
   ]
  },
  {
   "cell_type": "markdown",
   "metadata": {},
   "source": [
    "![](https://d1jnx9ba8s6j9r.cloudfront.net/blog/wp-content/uploads/2018/07/table3.png)"
   ]
  },
  {
   "cell_type": "markdown",
   "metadata": {},
   "source": [
    "### Problem Statement:\n",
    "\n",
    "#### Suppose we have a Day with the following values :\n",
    "\n",
    "    Outlook   =  Rain\n",
    "    Humidity   =  High\n",
    "    Wind  =  Weak\n",
    "    Play =?"
   ]
  },
  {
   "cell_type": "markdown",
   "metadata": {},
   "source": [
    "So, with the data, we have to predict whether **“we can play on that day or not”**.\n",
    "\n",
    " \n",
    "\n",
    "Likelihood of **‘Yes’** on that Day = **P(Outlook = Rain|Yes)*P(Humidity= High|Yes)* P(Wind= Weak|Yes)*P(Yes)**\n",
    "\n",
    "                                    =  2/9 * 3/9 * 6/9 * 9/14 =  0.0199\n",
    "\n",
    " \n",
    "\n",
    "Likelihood of **‘No’** on that Day = **P(Outlook = Rain|No)*P(Humidity= High|No)* P(Wind= Weak|No)*P(No)**\n",
    "\n",
    "                                   =  2/5 * 4/5 * 2/5 * 5/14 =  0.0166\n",
    "\n",
    " \n",
    "\n",
    "**Now we normalize the values, then**\n",
    "\n",
    "**P(Yes)** =  0.0199 / (0.0199+ 0.0166) = 0.55\n",
    "\n",
    "**P(No)** = 0.0166 / (0.0199+ 0.0166)  = 0.45\n",
    "\n",
    " \n",
    "\n",
    "**Our model predicts that there is a 55% chance there will be a Game tomorrow.**"
   ]
  },
  {
   "cell_type": "markdown",
   "metadata": {},
   "source": [
    "## Implementation in Python"
   ]
  },
  {
   "cell_type": "markdown",
   "metadata": {},
   "source": [
    "#### Import Libraries"
   ]
  },
  {
   "cell_type": "code",
   "execution_count": 35,
   "metadata": {},
   "outputs": [],
   "source": [
    "import pandas as pd\n",
    "import numpy as np\n",
    "import matplotlib.pyplot as plt\n",
    "from sklearn.naive_bayes import GaussianNB\n",
    "import numpy as np"
   ]
  },
  {
   "cell_type": "markdown",
   "metadata": {},
   "source": [
    "#### Import Data"
   ]
  },
  {
   "cell_type": "code",
   "execution_count": 4,
   "metadata": {},
   "outputs": [
    {
     "data": {
      "text/html": [
       "<div>\n",
       "<style scoped>\n",
       "    .dataframe tbody tr th:only-of-type {\n",
       "        vertical-align: middle;\n",
       "    }\n",
       "\n",
       "    .dataframe tbody tr th {\n",
       "        vertical-align: top;\n",
       "    }\n",
       "\n",
       "    .dataframe thead th {\n",
       "        text-align: right;\n",
       "    }\n",
       "</style>\n",
       "<table border=\"1\" class=\"dataframe\">\n",
       "  <thead>\n",
       "    <tr style=\"text-align: right;\">\n",
       "      <th></th>\n",
       "      <th>outlook</th>\n",
       "      <th>temp</th>\n",
       "      <th>humidity</th>\n",
       "      <th>windy</th>\n",
       "      <th>play</th>\n",
       "    </tr>\n",
       "  </thead>\n",
       "  <tbody>\n",
       "    <tr>\n",
       "      <th>0</th>\n",
       "      <td>sunny</td>\n",
       "      <td>hot</td>\n",
       "      <td>high</td>\n",
       "      <td>False</td>\n",
       "      <td>no</td>\n",
       "    </tr>\n",
       "    <tr>\n",
       "      <th>1</th>\n",
       "      <td>sunny</td>\n",
       "      <td>hot</td>\n",
       "      <td>high</td>\n",
       "      <td>True</td>\n",
       "      <td>no</td>\n",
       "    </tr>\n",
       "    <tr>\n",
       "      <th>2</th>\n",
       "      <td>overcast</td>\n",
       "      <td>hot</td>\n",
       "      <td>high</td>\n",
       "      <td>False</td>\n",
       "      <td>yes</td>\n",
       "    </tr>\n",
       "    <tr>\n",
       "      <th>3</th>\n",
       "      <td>rainy</td>\n",
       "      <td>mild</td>\n",
       "      <td>high</td>\n",
       "      <td>False</td>\n",
       "      <td>yes</td>\n",
       "    </tr>\n",
       "    <tr>\n",
       "      <th>4</th>\n",
       "      <td>rainy</td>\n",
       "      <td>cool</td>\n",
       "      <td>normal</td>\n",
       "      <td>False</td>\n",
       "      <td>yes</td>\n",
       "    </tr>\n",
       "  </tbody>\n",
       "</table>\n",
       "</div>"
      ],
      "text/plain": [
       "    outlook  temp humidity  windy play\n",
       "0     sunny   hot     high  False   no\n",
       "1     sunny   hot     high   True   no\n",
       "2  overcast   hot     high  False  yes\n",
       "3     rainy  mild     high  False  yes\n",
       "4     rainy  cool   normal  False  yes"
      ]
     },
     "execution_count": 4,
     "metadata": {},
     "output_type": "execute_result"
    }
   ],
   "source": [
    "link=\"C:/Users/comp/Desktop/Summer/ML/\"\n",
    "df = pd.read_csv(link+\"tennis.csv\")\n",
    "df.head()"
   ]
  },
  {
   "cell_type": "code",
   "execution_count": 6,
   "metadata": {},
   "outputs": [
    {
     "name": "stdout",
     "output_type": "stream",
     "text": [
      "<class 'pandas.core.frame.DataFrame'>\n",
      "RangeIndex: 14 entries, 0 to 13\n",
      "Data columns (total 5 columns):\n",
      "outlook     14 non-null object\n",
      "temp        14 non-null object\n",
      "humidity    14 non-null object\n",
      "windy       14 non-null bool\n",
      "play        14 non-null object\n",
      "dtypes: bool(1), object(4)\n",
      "memory usage: 542.0+ bytes\n"
     ]
    }
   ],
   "source": [
    "df.info()"
   ]
  },
  {
   "cell_type": "markdown",
   "metadata": {},
   "source": [
    "### Check Variables"
   ]
  },
  {
   "cell_type": "markdown",
   "metadata": {},
   "source": [
    "#### Check Outlook"
   ]
  },
  {
   "cell_type": "code",
   "execution_count": 16,
   "metadata": {},
   "outputs": [
    {
     "name": "stdout",
     "output_type": "stream",
     "text": [
      "Checking Outlook Variable for Play Segregation: \n",
      " outlook   play\n",
      "overcast  yes     4\n",
      "rainy     no      2\n",
      "          yes     3\n",
      "sunny     no      3\n",
      "          yes     2\n",
      "dtype: int64\n",
      "Checking Total Outlook:  outlook\n",
      "overcast    4\n",
      "rainy       5\n",
      "sunny       5\n",
      "dtype: int64\n"
     ]
    }
   ],
   "source": [
    "outlook_count = df.groupby(['outlook', 'play']).size()\n",
    "print(\"Checking Outlook Variable for Play Segregation: \\n\",outlook_count)\n",
    "outlook_total = df.groupby(['outlook']).size()\n",
    "print(\"Checking Total Outlook: \",outlook_total)"
   ]
  },
  {
   "cell_type": "markdown",
   "metadata": {},
   "source": [
    "#### Check Temperature"
   ]
  },
  {
   "cell_type": "code",
   "execution_count": 17,
   "metadata": {},
   "outputs": [
    {
     "name": "stdout",
     "output_type": "stream",
     "text": [
      "Checking Temperature Variable for Play Segregation: \n",
      " temp  play\n",
      "cool  no      1\n",
      "      yes     3\n",
      "hot   no      2\n",
      "      yes     2\n",
      "mild  no      2\n",
      "      yes     4\n",
      "dtype: int64\n",
      "Checking Total Outlook temp\n",
      "cool    4\n",
      "hot     4\n",
      "mild    6\n",
      "dtype: int64\n"
     ]
    }
   ],
   "source": [
    "temp_count = df.groupby(['temp', 'play']).size()\n",
    "temp_total = df.groupby(['temp']).size()\n",
    "print(\"Checking Temperature Variable for Play Segregation: \\n\",temp_count)\n",
    "print(\"Checking Total Outlook\",temp_total)"
   ]
  },
  {
   "cell_type": "markdown",
   "metadata": {},
   "source": [
    "#### Check Humidity"
   ]
  },
  {
   "cell_type": "code",
   "execution_count": 19,
   "metadata": {},
   "outputs": [
    {
     "name": "stdout",
     "output_type": "stream",
     "text": [
      "Checking Humidity Variable for Play Segregation: \n",
      " humidity  play\n",
      "high      no      4\n",
      "          yes     3\n",
      "normal    no      1\n",
      "          yes     6\n",
      "dtype: int64\n",
      "Checking Humidity Outlook humidity\n",
      "high      7\n",
      "normal    7\n",
      "dtype: int64\n"
     ]
    }
   ],
   "source": [
    "humidity_count = df.groupby(['humidity', 'play']).size()\n",
    "humidity_total = df.groupby(['humidity']).size()\n",
    "print(\"Checking Humidity Variable for Play Segregation: \\n\",humidity_count)\n",
    "print(\"Checking Humidity Outlook\",humidity_total)"
   ]
  },
  {
   "cell_type": "markdown",
   "metadata": {},
   "source": [
    "#### Check Windy"
   ]
  },
  {
   "cell_type": "code",
   "execution_count": 20,
   "metadata": {},
   "outputs": [
    {
     "name": "stdout",
     "output_type": "stream",
     "text": [
      "Checking Windy Variable for Play Segregation: \n",
      " windy  play\n",
      "False  no      2\n",
      "       yes     6\n",
      "True   no      3\n",
      "       yes     3\n",
      "dtype: int64\n",
      "Checking Windy Outlook windy\n",
      "False    8\n",
      "True     6\n",
      "dtype: int64\n"
     ]
    }
   ],
   "source": [
    "windy_count = df.groupby(['windy', 'play']).size()\n",
    "windy_total = df.groupby(['windy']).size()\n",
    "print(\"Checking Windy Variable for Play Segregation: \\n\",windy_count)\n",
    "print(\"Checking Windy Outlook\",windy_total)"
   ]
  },
  {
   "cell_type": "code",
   "execution_count": 29,
   "metadata": {},
   "outputs": [
    {
     "name": "stdout",
     "output_type": "stream",
     "text": [
      "Total OVERCAST+YES:  4\n"
     ]
    }
   ],
   "source": [
    "p_over_yes = outlook_count['overcast','yes']\n",
    "#p_over_no = outlook_count['overcast','no']\n",
    "print(\"Total OVERCAST+YES: \",p_over_yes)\n",
    "#print(p_over_no)"
   ]
  },
  {
   "cell_type": "code",
   "execution_count": 32,
   "metadata": {},
   "outputs": [
    {
     "name": "stdout",
     "output_type": "stream",
     "text": [
      "Total RAINY+YES:  3\n",
      "Total RAINY+NO:  2\n"
     ]
    }
   ],
   "source": [
    "p_rainy_yes = outlook_count['rainy','yes']\n",
    "print(\"Total RAINY+YES: \",p_rainy_yes)\n",
    "p_rainy_no = outlook_count['rainy','no']\n",
    "print(\"Total RAINY+NO: \",p_rainy_no)"
   ]
  },
  {
   "cell_type": "markdown",
   "metadata": {},
   "source": [
    "#### Creating Data Subset for training"
   ]
  },
  {
   "cell_type": "code",
   "execution_count": 33,
   "metadata": {},
   "outputs": [],
   "source": [
    "X_train = pd.get_dummies(df[['outlook', 'temp', 'humidity', 'windy']])\n",
    "y_train = pd.DataFrame(df['play'])"
   ]
  },
  {
   "cell_type": "code",
   "execution_count": 34,
   "metadata": {},
   "outputs": [
    {
     "data": {
      "text/html": [
       "<div>\n",
       "<style scoped>\n",
       "    .dataframe tbody tr th:only-of-type {\n",
       "        vertical-align: middle;\n",
       "    }\n",
       "\n",
       "    .dataframe tbody tr th {\n",
       "        vertical-align: top;\n",
       "    }\n",
       "\n",
       "    .dataframe thead th {\n",
       "        text-align: right;\n",
       "    }\n",
       "</style>\n",
       "<table border=\"1\" class=\"dataframe\">\n",
       "  <thead>\n",
       "    <tr style=\"text-align: right;\">\n",
       "      <th></th>\n",
       "      <th>windy</th>\n",
       "      <th>outlook_overcast</th>\n",
       "      <th>outlook_rainy</th>\n",
       "      <th>outlook_sunny</th>\n",
       "      <th>temp_cool</th>\n",
       "      <th>temp_hot</th>\n",
       "      <th>temp_mild</th>\n",
       "      <th>humidity_high</th>\n",
       "      <th>humidity_normal</th>\n",
       "    </tr>\n",
       "  </thead>\n",
       "  <tbody>\n",
       "    <tr>\n",
       "      <th>0</th>\n",
       "      <td>False</td>\n",
       "      <td>0</td>\n",
       "      <td>0</td>\n",
       "      <td>1</td>\n",
       "      <td>0</td>\n",
       "      <td>1</td>\n",
       "      <td>0</td>\n",
       "      <td>1</td>\n",
       "      <td>0</td>\n",
       "    </tr>\n",
       "    <tr>\n",
       "      <th>1</th>\n",
       "      <td>True</td>\n",
       "      <td>0</td>\n",
       "      <td>0</td>\n",
       "      <td>1</td>\n",
       "      <td>0</td>\n",
       "      <td>1</td>\n",
       "      <td>0</td>\n",
       "      <td>1</td>\n",
       "      <td>0</td>\n",
       "    </tr>\n",
       "    <tr>\n",
       "      <th>2</th>\n",
       "      <td>False</td>\n",
       "      <td>1</td>\n",
       "      <td>0</td>\n",
       "      <td>0</td>\n",
       "      <td>0</td>\n",
       "      <td>1</td>\n",
       "      <td>0</td>\n",
       "      <td>1</td>\n",
       "      <td>0</td>\n",
       "    </tr>\n",
       "    <tr>\n",
       "      <th>3</th>\n",
       "      <td>False</td>\n",
       "      <td>0</td>\n",
       "      <td>1</td>\n",
       "      <td>0</td>\n",
       "      <td>0</td>\n",
       "      <td>0</td>\n",
       "      <td>1</td>\n",
       "      <td>1</td>\n",
       "      <td>0</td>\n",
       "    </tr>\n",
       "    <tr>\n",
       "      <th>4</th>\n",
       "      <td>False</td>\n",
       "      <td>0</td>\n",
       "      <td>1</td>\n",
       "      <td>0</td>\n",
       "      <td>1</td>\n",
       "      <td>0</td>\n",
       "      <td>0</td>\n",
       "      <td>0</td>\n",
       "      <td>1</td>\n",
       "    </tr>\n",
       "  </tbody>\n",
       "</table>\n",
       "</div>"
      ],
      "text/plain": [
       "   windy  outlook_overcast  outlook_rainy  outlook_sunny  temp_cool  temp_hot  \\\n",
       "0  False                 0              0              1          0         1   \n",
       "1   True                 0              0              1          0         1   \n",
       "2  False                 1              0              0          0         1   \n",
       "3  False                 0              1              0          0         0   \n",
       "4  False                 0              1              0          1         0   \n",
       "\n",
       "   temp_mild  humidity_high  humidity_normal  \n",
       "0          0              1                0  \n",
       "1          0              1                0  \n",
       "2          0              1                0  \n",
       "3          1              1                0  \n",
       "4          0              0                1  "
      ]
     },
     "execution_count": 34,
     "metadata": {},
     "output_type": "execute_result"
    }
   ],
   "source": [
    "X_train.head()"
   ]
  },
  {
   "cell_type": "markdown",
   "metadata": {},
   "source": [
    "#### Creating Model"
   ]
  },
  {
   "cell_type": "code",
   "execution_count": 36,
   "metadata": {},
   "outputs": [
    {
     "name": "stderr",
     "output_type": "stream",
     "text": [
      "C:\\Users\\comp\\Anaconda3\\lib\\site-packages\\sklearn\\utils\\validation.py:578: DataConversionWarning: A column-vector y was passed when a 1d array was expected. Please change the shape of y to (n_samples, ), for example using ravel().\n",
      "  y = column_or_1d(y, warn=True)\n"
     ]
    },
    {
     "data": {
      "text/plain": [
       "GaussianNB(priors=None)"
      ]
     },
     "execution_count": 36,
     "metadata": {},
     "output_type": "execute_result"
    }
   ],
   "source": [
    "model = GaussianNB()\n",
    "model.fit(X_train, y_train)"
   ]
  },
  {
   "cell_type": "markdown",
   "metadata": {},
   "source": [
    "#### Predicting Model"
   ]
  },
  {
   "cell_type": "code",
   "execution_count": 40,
   "metadata": {},
   "outputs": [
    {
     "name": "stdout",
     "output_type": "stream",
     "text": [
      "['yes']\n"
     ]
    }
   ],
   "source": [
    "predicted= model.predict([[False,1,0,0,0,1,0,1,0]])\n",
    "#print(predicted)"
   ]
  },
  {
   "cell_type": "code",
   "execution_count": 41,
   "metadata": {},
   "outputs": [
    {
     "name": "stdout",
     "output_type": "stream",
     "text": [
      "I will play Tennis\n"
     ]
    }
   ],
   "source": [
    "if predicted=='yes':\n",
    "    print(\"I will play Tennis\")\n",
    "else:\n",
    "    print(\"I will not play Tennis\")"
   ]
  },
  {
   "cell_type": "code",
   "execution_count": null,
   "metadata": {},
   "outputs": [],
   "source": []
  }
 ],
 "metadata": {
  "kernelspec": {
   "display_name": "Python 3",
   "language": "python",
   "name": "python3"
  },
  "language_info": {
   "codemirror_mode": {
    "name": "ipython",
    "version": 3
   },
   "file_extension": ".py",
   "mimetype": "text/x-python",
   "name": "python",
   "nbconvert_exporter": "python",
   "pygments_lexer": "ipython3",
   "version": "3.6.5"
  }
 },
 "nbformat": 4,
 "nbformat_minor": 2
}
